{
 "cells": [
  {
   "cell_type": "code",
   "execution_count": null,
   "metadata": {
    "colab": {
     "base_uri": "https://localhost:8080/",
     "height": 136
    },
    "colab_type": "code",
    "id": "bI64hm6KNJz-",
    "outputId": "dea76e4b-cf80-48fd-f565-4314661d666c"
   },
   "outputs": [],
   "source": [
    "! git clone https://github.com/Shreya369/We-R.git\n",
    "  "
   ]
  },
  {
   "cell_type": "code",
   "execution_count": 1,
   "metadata": {
    "colab": {},
    "colab_type": "code",
    "id": "qTLFYiFYPNxX"
   },
   "outputs": [],
   "source": [
    "import pandas as pd\n",
    "import numpy as np\n",
    "import matplotlib.pyplot as plt\n",
    "import seaborn as sns"
   ]
  },
  {
   "cell_type": "code",
   "execution_count": null,
   "metadata": {
    "colab": {},
    "colab_type": "code",
    "id": "vicvXgByPiM9"
   },
   "outputs": [],
   "source": [
    "INvideos = pd.read_csv('We-R/YouTube_dataset/INvideos.csv')"
   ]
  },
  {
   "cell_type": "code",
   "execution_count": null,
   "metadata": {
    "colab": {
     "base_uri": "https://localhost:8080/",
     "height": 547
    },
    "colab_type": "code",
    "id": "Y8y24sDPPyBw",
    "outputId": "c29f79e2-3d8a-4db8-f581-ee745719e38c"
   },
   "outputs": [],
   "source": [
    "INvideos.head()"
   ]
  },
  {
   "cell_type": "code",
   "execution_count": null,
   "metadata": {
    "colab": {
     "base_uri": "https://localhost:8080/",
     "height": 374
    },
    "colab_type": "code",
    "id": "bgZN69jQP49J",
    "outputId": "3da91950-97cf-4cf9-9e73-8051ec6d90bc"
   },
   "outputs": [],
   "source": [
    "INvideos.info()"
   ]
  },
  {
   "cell_type": "code",
   "execution_count": null,
   "metadata": {
    "colab": {
     "base_uri": "https://localhost:8080/",
     "height": 297
    },
    "colab_type": "code",
    "id": "XpkPQjm6RPrr",
    "outputId": "e9908172-e33f-4054-903e-5c7c898f6b52"
   },
   "outputs": [],
   "source": [
    "INvideos.describe()"
   ]
  },
  {
   "cell_type": "code",
   "execution_count": null,
   "metadata": {
    "colab": {},
    "colab_type": "code",
    "id": "5vz7B7n824ui"
   },
   "outputs": [],
   "source": [
    "#Making a change to see how it works"
   ]
  }
 ],
 "metadata": {
  "colab": {
   "collapsed_sections": [],
   "name": "YouTube trending video analysis.ipynb",
   "provenance": []
  },
  "kernelspec": {
   "display_name": "Python 3",
   "language": "python",
   "name": "python3"
  },
  "language_info": {
   "codemirror_mode": {
    "name": "ipython",
    "version": 3
   },
   "file_extension": ".py",
   "mimetype": "text/x-python",
   "name": "python",
   "nbconvert_exporter": "python",
   "pygments_lexer": "ipython3",
   "version": "3.7.3"
  }
 },
 "nbformat": 4,
 "nbformat_minor": 1
}
